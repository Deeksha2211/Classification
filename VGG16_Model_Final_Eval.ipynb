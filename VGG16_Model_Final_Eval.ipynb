{
 "cells": [
  {
   "cell_type": "code",
   "execution_count": 1,
   "metadata": {
    "colab": {
     "base_uri": "https://localhost:8080/"
    },
    "id": "dYDKXgEZSNbg",
    "outputId": "ecb309fb-8921-4341-fe69-4bd3110d7bed"
   },
   "outputs": [
    {
     "name": "stdout",
     "output_type": "stream",
     "text": [
      "Mounted at /content/drive\n"
     ]
    }
   ],
   "source": [
    "from google.colab import drive\n",
    "drive.mount('/content/drive')"
   ]
  },
  {
   "cell_type": "code",
   "execution_count": 2,
   "metadata": {
    "id": "AB0djQ2uRs_T"
   },
   "outputs": [],
   "source": [
    "import json\n",
    "import math\n",
    "import os\n",
    "\n",
    "import cv2\n",
    "from PIL import Image\n",
    "import numpy as np\n",
    "from tensorflow.keras import layers\n",
    "from tensorflow.keras.applications import ResNet50, VGG16\n",
    "from tensorflow.keras.callbacks import ReduceLROnPlateau\n",
    "from tensorflow.keras.preprocessing.image import ImageDataGenerator\n",
    "from keras.utils.np_utils import to_categorical\n",
    "from tensorflow.keras.models import Sequential\n",
    "from tensorflow.keras.optimizers import Adam\n",
    "import matplotlib.pyplot as plt\n",
    "import pandas as pd\n",
    "from sklearn.model_selection import train_test_split\n",
    "from sklearn.metrics import accuracy_score\n",
    "import scipy\n",
    "from tqdm import tqdm\n",
    "import tensorflow as tf\n",
    "from tensorflow.keras import backend as K\n",
    "import gc\n",
    "from functools import partial\n",
    "from sklearn import metrics\n",
    "from collections import Counter\n",
    "import json\n",
    "import itertools\n",
    "\n",
    "\n",
    "%matplotlib inline"
   ]
  },
  {
   "cell_type": "code",
   "execution_count": 5,
   "metadata": {
    "colab": {
     "base_uri": "https://localhost:8080/"
    },
    "id": "bLPomMRAR7Nj",
    "outputId": "90cded41-5bf8-436e-b93b-8fa119d15707"
   },
   "outputs": [
    {
     "name": "stderr",
     "output_type": "stream",
     "text": [
      "100%|██████████| 371/371 [00:05<00:00, 66.95it/s]\n",
      "100%|██████████| 777/777 [02:45<00:00,  4.69it/s]\n",
      "100%|██████████| 176/176 [00:40<00:00,  4.37it/s]\n",
      "100%|██████████| 369/369 [01:20<00:00,  4.61it/s]\n"
     ]
    }
   ],
   "source": [
    "#Transfer 'jpg' images to an array IMG\n",
    "def Dataset_loader(DIR, RESIZE, sigmaX=10):\n",
    "    IMG = []\n",
    "    read = lambda imname: np.asarray(Image.open(imname).convert(\"RGB\"))\n",
    "    for IMAGE_NAME in tqdm(os.listdir(DIR)):                                 #tqdm is for progress bar\n",
    "        PATH = os.path.join(DIR,IMAGE_NAME)\n",
    "        _, ftype = os.path.splitext(PATH)\n",
    "        if ftype == \".png\":\n",
    "            img = read(PATH)\n",
    "           \n",
    "            img = cv2.resize(img, (RESIZE,RESIZE))\n",
    "           \n",
    "            IMG.append(np.array(img))\n",
    "    return IMG\n",
    "\n",
    "benign_train = np.array(Dataset_loader('/content/drive/MyDrive/Classification2/train/benign',224))\n",
    "malign_train = np.array(Dataset_loader('/content/drive/MyDrive/Classification2/train/malignant',224))\n",
    "benign_test = np.array(Dataset_loader('/content/drive/MyDrive/Classification2/test/benign',224))\n",
    "malign_test = np.array(Dataset_loader('/content/drive/MyDrive/Classification2/test/malignant',224))"
   ]
  },
  {
   "cell_type": "code",
   "execution_count": 6,
   "metadata": {
    "id": "18xCxf2ySs6u"
   },
   "outputs": [],
   "source": [
    "# Breast Cancer: Malignant vs. Benign\n",
    "# Create labels\n",
    "benign_train_label = np.zeros(len(benign_train))\n",
    "malign_train_label = np.ones(len(malign_train))\n",
    "benign_test_label = np.zeros(len(benign_test))\n",
    "malign_test_label = np.ones(len(malign_test))\n",
    "\n",
    "# Merge data \n",
    "X_train = np.concatenate((benign_train, malign_train), axis = 0)\n",
    "Y_train = np.concatenate((benign_train_label, malign_train_label), axis = 0)\n",
    "X_test = np.concatenate((benign_test, malign_test), axis = 0)\n",
    "Y_test = np.concatenate((benign_test_label, malign_test_label), axis = 0)\n",
    "\n",
    "# Shuffle train data\n",
    "s = np.arange(X_train.shape[0])\n",
    "np.random.shuffle(s)\n",
    "X_train = X_train[s]\n",
    "Y_train = Y_train[s]\n",
    "\n",
    "# Shuffle test data\n",
    "s = np.arange(X_test.shape[0])\n",
    "np.random.shuffle(s)\n",
    "X_test = X_test[s]\n",
    "Y_test = Y_test[s]\n",
    "\n",
    "# To categorical\n",
    "Y_train = to_categorical(Y_train, num_classes= 2)\n",
    "Y_test = to_categorical(Y_test, num_classes= 2)"
   ]
  },
  {
   "cell_type": "code",
   "execution_count": 7,
   "metadata": {
    "id": "gjAjdAolSz_f"
   },
   "outputs": [],
   "source": [
    "x_train, x_val, y_train, y_val = train_test_split(\n",
    "    X_train, Y_train, \n",
    "    test_size=0.2, \n",
    "    random_state=11\n",
    ")"
   ]
  },
  {
   "cell_type": "code",
   "execution_count": 8,
   "metadata": {
    "id": "19v5wg2zS3JJ"
   },
   "outputs": [],
   "source": [
    "BATCH_SIZE = 16\n",
    "\n",
    "# Using original generator\n",
    "train_generator = ImageDataGenerator(\n",
    "        zoom_range=2,  # set range for random zoom           #data augmentation\n",
    "        rotation_range = 90,\n",
    "        horizontal_flip=True,  # randomly flip images\n",
    "        vertical_flip=True,  # randomly flip images\n",
    "    )"
   ]
  },
  {
   "cell_type": "code",
   "execution_count": 9,
   "metadata": {
    "id": "qi0lwsxYS60f"
   },
   "outputs": [],
   "source": [
    "def build_model(backbone, lr=1e-4):\n",
    "    model = Sequential()\n",
    "    model.add(backbone)\n",
    "    model.add(layers.GlobalAveragePooling2D())\n",
    "    model.add(layers.Dropout(0.5))\n",
    "    model.add(layers.BatchNormalization())\n",
    "    model.add(layers.Dense(2, activation='softmax'))\n",
    "    \n",
    "    \n",
    "    model.compile(\n",
    "        loss='binary_crossentropy',\n",
    "        optimizer=Adam(lr=lr),\n",
    "        metrics=['accuracy']\n",
    "    )\n",
    "    \n",
    "    return model"
   ]
  },
  {
   "cell_type": "code",
   "execution_count": 10,
   "metadata": {
    "colab": {
     "base_uri": "https://localhost:8080/"
    },
    "id": "Rdizq1R_S-nR",
    "outputId": "520004bf-f870-4b35-a391-eb5044d34b29"
   },
   "outputs": [
    {
     "name": "stderr",
     "output_type": "stream",
     "text": [
      "/usr/local/lib/python3.7/dist-packages/tensorflow/python/keras/optimizer_v2/optimizer_v2.py:375: UserWarning: The `lr` argument is deprecated, use `learning_rate` instead.\n",
      "  \"The `lr` argument is deprecated, use `learning_rate` instead.\")\n"
     ]
    }
   ],
   "source": [
    "K.clear_session()\n",
    "gc.collect()\n",
    "\n",
    "vgg = VGG16(\n",
    "    weights='imagenet',                                            # the pre trained weights which is already trained in the Imagenet competition\n",
    "    include_top=False,                                            # whether to include the 3 fully-connected layers at the top of the network.\n",
    "    input_shape=(224,224,3)\n",
    ")\n",
    "\n",
    "model = build_model(vgg ,lr = 1e-4)"
   ]
  },
  {
   "cell_type": "code",
   "execution_count": 11,
   "metadata": {
    "id": "w3rJRWwXTNkm"
   },
   "outputs": [],
   "source": [
    "from tensorflow.keras.callbacks import Callback, ModelCheckpoint, ReduceLROnPlateau\n",
    "\n",
    "# Learning Rate Reducer\n",
    "learn_control = ReduceLROnPlateau(monitor='val_accuracy', patience=5,           #Reduce learning rate when a metric has stopped improving.\n",
    "                                  verbose=1,factor=0.2, min_lr=1e-7)            #This callback monitors a quantity and if no improvement is \n",
    "                                                                                #seen for a ‘patience’ number of epochs, the learning rate is reduced.\n",
    "\n",
    "# Checkpoint\n",
    "filepath=\"weights.best.hdf5\"\n",
    "checkpoint = ModelCheckpoint(filepath, monitor='val_accuracy', verbose=1, save_best_only=True, mode='max') "
   ]
  },
  {
   "cell_type": "code",
   "execution_count": 12,
   "metadata": {
    "colab": {
     "base_uri": "https://localhost:8080/"
    },
    "id": "Lq_5VAhJTR2S",
    "outputId": "a391a198-e1ff-423a-dfff-59bb186b4906"
   },
   "outputs": [
    {
     "name": "stderr",
     "output_type": "stream",
     "text": [
      "/usr/local/lib/python3.7/dist-packages/tensorflow/python/keras/engine/training.py:1940: UserWarning: `Model.fit_generator` is deprecated and will be removed in a future version. Please use `Model.fit`, which supports generators.\n",
      "  warnings.warn('`Model.fit_generator` is deprecated and '\n"
     ]
    },
    {
     "name": "stdout",
     "output_type": "stream",
     "text": [
      "Epoch 1/20\n",
      "57/57 [==============================] - 59s 420ms/step - loss: 0.7134 - accuracy: 0.5915 - val_loss: 0.6898 - val_accuracy: 0.7609\n",
      "\n",
      "Epoch 00001: val_accuracy improved from -inf to 0.76087, saving model to weights.best.hdf5\n",
      "Epoch 2/20\n",
      "57/57 [==============================] - 16s 273ms/step - loss: 0.5802 - accuracy: 0.7233 - val_loss: 0.7451 - val_accuracy: 0.7652\n",
      "\n",
      "Epoch 00002: val_accuracy improved from 0.76087 to 0.76522, saving model to weights.best.hdf5\n",
      "Epoch 3/20\n",
      "57/57 [==============================] - 16s 274ms/step - loss: 0.5886 - accuracy: 0.7375 - val_loss: 0.5942 - val_accuracy: 0.7435\n",
      "\n",
      "Epoch 00003: val_accuracy did not improve from 0.76522\n",
      "Epoch 4/20\n",
      "57/57 [==============================] - 16s 275ms/step - loss: 0.5334 - accuracy: 0.7821 - val_loss: 0.4386 - val_accuracy: 0.8435\n",
      "\n",
      "Epoch 00004: val_accuracy improved from 0.76522 to 0.84348, saving model to weights.best.hdf5\n",
      "Epoch 5/20\n",
      "57/57 [==============================] - 16s 280ms/step - loss: 0.5202 - accuracy: 0.7756 - val_loss: 0.4195 - val_accuracy: 0.8609\n",
      "\n",
      "Epoch 00005: val_accuracy improved from 0.84348 to 0.86087, saving model to weights.best.hdf5\n",
      "Epoch 6/20\n",
      "57/57 [==============================] - 16s 282ms/step - loss: 0.4693 - accuracy: 0.8115 - val_loss: 0.4321 - val_accuracy: 0.8478\n",
      "\n",
      "Epoch 00006: val_accuracy did not improve from 0.86087\n",
      "Epoch 7/20\n",
      "57/57 [==============================] - 16s 282ms/step - loss: 0.4608 - accuracy: 0.8442 - val_loss: 0.7519 - val_accuracy: 0.5174\n",
      "\n",
      "Epoch 00007: val_accuracy did not improve from 0.86087\n",
      "Epoch 8/20\n",
      "57/57 [==============================] - 16s 281ms/step - loss: 0.4432 - accuracy: 0.8355 - val_loss: 0.7258 - val_accuracy: 0.6696\n",
      "\n",
      "Epoch 00008: val_accuracy did not improve from 0.86087\n",
      "Epoch 9/20\n",
      "57/57 [==============================] - 16s 282ms/step - loss: 0.4354 - accuracy: 0.8312 - val_loss: 0.9149 - val_accuracy: 0.5609\n",
      "\n",
      "Epoch 00009: val_accuracy did not improve from 0.86087\n",
      "Epoch 10/20\n",
      "57/57 [==============================] - 16s 284ms/step - loss: 0.4540 - accuracy: 0.8072 - val_loss: 0.3842 - val_accuracy: 0.8652\n",
      "\n",
      "Epoch 00010: val_accuracy improved from 0.86087 to 0.86522, saving model to weights.best.hdf5\n",
      "Epoch 11/20\n",
      "57/57 [==============================] - 16s 285ms/step - loss: 0.4006 - accuracy: 0.8519 - val_loss: 0.7721 - val_accuracy: 0.2652\n",
      "\n",
      "Epoch 00011: val_accuracy did not improve from 0.86522\n",
      "Epoch 12/20\n",
      "57/57 [==============================] - 16s 285ms/step - loss: 0.4047 - accuracy: 0.8486 - val_loss: 0.6614 - val_accuracy: 0.4130\n",
      "\n",
      "Epoch 00012: val_accuracy did not improve from 0.86522\n",
      "Epoch 13/20\n",
      "57/57 [==============================] - 16s 283ms/step - loss: 0.3862 - accuracy: 0.8551 - val_loss: 0.5496 - val_accuracy: 0.8174\n",
      "\n",
      "Epoch 00013: val_accuracy did not improve from 0.86522\n",
      "Epoch 14/20\n",
      "57/57 [==============================] - 16s 283ms/step - loss: 0.3798 - accuracy: 0.8617 - val_loss: 0.3432 - val_accuracy: 0.8696\n",
      "\n",
      "Epoch 00014: val_accuracy improved from 0.86522 to 0.86957, saving model to weights.best.hdf5\n",
      "Epoch 15/20\n",
      "57/57 [==============================] - 16s 282ms/step - loss: 0.3556 - accuracy: 0.8736 - val_loss: 0.7351 - val_accuracy: 0.2783\n",
      "\n",
      "Epoch 00015: val_accuracy did not improve from 0.86957\n",
      "Epoch 16/20\n",
      "57/57 [==============================] - 16s 284ms/step - loss: 0.3429 - accuracy: 0.8736 - val_loss: 0.5633 - val_accuracy: 0.7348\n",
      "\n",
      "Epoch 00016: val_accuracy did not improve from 0.86957\n",
      "Epoch 17/20\n",
      "57/57 [==============================] - 16s 284ms/step - loss: 0.3732 - accuracy: 0.8584 - val_loss: 0.3934 - val_accuracy: 0.8826\n",
      "\n",
      "Epoch 00017: val_accuracy improved from 0.86957 to 0.88261, saving model to weights.best.hdf5\n",
      "Epoch 18/20\n",
      "57/57 [==============================] - 16s 282ms/step - loss: 0.3148 - accuracy: 0.8845 - val_loss: 0.5238 - val_accuracy: 0.8043\n",
      "\n",
      "Epoch 00018: val_accuracy did not improve from 0.88261\n",
      "Epoch 19/20\n",
      "57/57 [==============================] - 16s 284ms/step - loss: 0.4640 - accuracy: 0.7810 - val_loss: 0.6048 - val_accuracy: 0.6913\n",
      "\n",
      "Epoch 00019: val_accuracy did not improve from 0.88261\n",
      "Epoch 20/20\n",
      "57/57 [==============================] - 16s 282ms/step - loss: 0.4612 - accuracy: 0.8007 - val_loss: 0.4196 - val_accuracy: 0.8913\n",
      "\n",
      "Epoch 00020: val_accuracy improved from 0.88261 to 0.89130, saving model to weights.best.hdf5\n"
     ]
    }
   ],
   "source": [
    "history = model.fit_generator(\n",
    "    train_generator.flow(x_train, y_train, batch_size=BATCH_SIZE),\n",
    "    steps_per_epoch=x_train.shape[0] / BATCH_SIZE,\n",
    "    epochs=20,\n",
    "    validation_data=(x_val, y_val),\n",
    "    callbacks=[learn_control, checkpoint]\n",
    ")"
   ]
  },
  {
   "cell_type": "code",
   "execution_count": 13,
   "metadata": {
    "id": "tCJRMTUBTUs3"
   },
   "outputs": [],
   "source": [
    "model.load_weights(\"weights.best.hdf5\")"
   ]
  },
  {
   "cell_type": "code",
   "execution_count": 14,
   "metadata": {
    "id": "7GDcKy8CTZav"
   },
   "outputs": [],
   "source": [
    "Y_val_pred = model.predict(x_val)"
   ]
  },
  {
   "cell_type": "code",
   "execution_count": 15,
   "metadata": {
    "colab": {
     "base_uri": "https://localhost:8080/"
    },
    "id": "a6MwDg_STco_",
    "outputId": "b97747c5-bf5a-48f5-e5e0-e96d71408a6a"
   },
   "outputs": [
    {
     "data": {
      "text/plain": [
       "0.8913043478260869"
      ]
     },
     "execution_count": 15,
     "metadata": {
      "tags": []
     },
     "output_type": "execute_result"
    }
   ],
   "source": [
    "accuracy_score(np.argmax(y_val, axis=1), np.argmax(Y_val_pred, axis=1))"
   ]
  },
  {
   "cell_type": "code",
   "execution_count": 16,
   "metadata": {
    "id": "Eg5QUs5RTjeh"
   },
   "outputs": [],
   "source": [
    "Y_pred = model.predict(X_test)"
   ]
  },
  {
   "cell_type": "code",
   "execution_count": 17,
   "metadata": {
    "colab": {
     "base_uri": "https://localhost:8080/"
    },
    "id": "Kvfi7Y3RTn4W",
    "outputId": "63574dd7-9eaf-4c58-9e8f-d50bade696cd"
   },
   "outputs": [
    {
     "name": "stderr",
     "output_type": "stream",
     "text": [
      "\r",
      "  0%|          | 0/10 [00:00<?, ?it/s]/usr/local/lib/python3.7/dist-packages/tensorflow/python/keras/engine/training.py:2001: UserWarning: `Model.predict_generator` is deprecated and will be removed in a future version. Please use `Model.predict`, which supports generators.\n",
      "  warnings.warn('`Model.predict_generator` is deprecated and '\n",
      "100%|██████████| 10/10 [00:56<00:00,  5.65s/it]\n"
     ]
    }
   ],
   "source": [
    "tta_steps = 10\n",
    "predictions = []\n",
    "\n",
    "for i in tqdm(range(tta_steps)):\n",
    "    preds = model.predict_generator(train_generator.flow(X_test, batch_size=BATCH_SIZE, shuffle=False),\n",
    "                                    steps = len(X_test)/BATCH_SIZE)   #Generates predictions for the input samples from a data generator.\n",
    "\n",
    "    \n",
    "    predictions.append(preds)\n",
    "    gc.collect()\n",
    "    \n",
    "Y_pred_tta = np.mean(predictions, axis=0)"
   ]
  },
  {
   "cell_type": "code",
   "execution_count": 18,
   "metadata": {
    "colab": {
     "base_uri": "https://localhost:8080/",
     "height": 350
    },
    "id": "AKge2EsKTq6G",
    "outputId": "e88dd713-5414-4a8d-ccbc-62da7d679449"
   },
   "outputs": [
    {
     "name": "stdout",
     "output_type": "stream",
     "text": [
      "Confusion matrix, without normalization\n",
      "[[121  55]\n",
      " [ 21 348]]\n"
     ]
    },
    {
     "data": {
      "image/png": "[encoded data removed]",
      "text/plain": [
       "<Figure size 432x288 with 2 Axes>"
      ]
     },
     "metadata": {
      "needs_background": "light",
      "tags": []
     },
     "output_type": "display_data"
    }
   ],
   "source": [
    "from sklearn.metrics import confusion_matrix\n",
    "\n",
    "def plot_confusion_matrix(cm, classes,\n",
    "                          normalize=False,\n",
    "                          title='Confusion matrix',\n",
    "                          cmap=plt.cm.Blues):\n",
    "    \"\"\"\n",
    "    This function prints and plots the confusion matrix.\n",
    "    Normalization can be applied by setting `normalize=True`.\n",
    "    \"\"\"\n",
    "    if normalize:\n",
    "        cm = cm.astype('float') / cm.sum(axis=1)[:, np.newaxis]\n",
    "        print(\"Normalized confusion matrix\")\n",
    "    else:\n",
    "        print('Confusion matrix, without normalization')\n",
    "\n",
    "    print(cm)\n",
    "\n",
    "    plt.imshow(cm, interpolation='nearest', cmap=cmap)\n",
    "    plt.title(title)\n",
    "    plt.colorbar()\n",
    "    tick_marks = np.arange(len(classes))\n",
    "    plt.xticks(tick_marks, classes, rotation=55)\n",
    "    plt.yticks(tick_marks, classes)\n",
    "\n",
    "    fmt = '.2f' if normalize else 'd'\n",
    "    thresh = cm.max() / 2.\n",
    "    for i, j in itertools.product(range(cm.shape[0]), range(cm.shape[1])):\n",
    "        plt.text(j, i, format(cm[i, j], fmt),\n",
    "                 horizontalalignment=\"center\",\n",
    "                 color=\"white\" if cm[i, j] > thresh else \"black\")\n",
    "\n",
    "    plt.ylabel('True label')\n",
    "    plt.xlabel('Predicted label')\n",
    "    plt.tight_layout()\n",
    "\n",
    "cm = confusion_matrix(np.argmax(Y_test, axis=1), np.argmax(Y_pred, axis=1))\n",
    "\n",
    "cm_plot_label =['benign', 'malignant']\n",
    "plot_confusion_matrix(cm, cm_plot_label, title ='Confusion Metrix for Breast Cancer')"
   ]
  },
  {
   "cell_type": "code",
   "execution_count": 19,
   "metadata": {
    "colab": {
     "base_uri": "https://localhost:8080/",
     "height": 294
    },
    "id": "SXRmFv3sTuby",
    "outputId": "7dc9a0fe-9fe4-45fd-9660-2525df97a923"
   },
   "outputs": [
    {
     "data": {
      "image/png": "[encoded data removed]",
      "text/plain": [
       "<Figure size 432x288 with 1 Axes>"
      ]
     },
     "metadata": {
      "needs_background": "light",
      "tags": []
     },
     "output_type": "display_data"
    }
   ],
   "source": [
    "from sklearn.metrics import roc_auc_score, auc\n",
    "from sklearn.metrics import roc_curve\n",
    "roc_log = roc_auc_score(np.argmax(Y_test, axis=1), np.argmax(Y_pred_tta, axis=1))\n",
    "false_positive_rate, true_positive_rate, threshold = roc_curve(np.argmax(Y_test, axis=1), np.argmax(Y_pred_tta, axis=1))\n",
    "area_under_curve = auc(false_positive_rate, true_positive_rate)\n",
    "\n",
    "plt.plot([0, 1], [0, 1], 'r--')\n",
    "plt.plot(false_positive_rate, true_positive_rate, label='AUC = {:.3f}'.format(area_under_curve))\n",
    "plt.xlabel('False positive rate')\n",
    "plt.ylabel('True positive rate')\n",
    "plt.title('ROC curve')\n",
    "plt.legend(loc='best')\n",
    "plt.show()\n",
    "#plt.savefig(ROC_PLOT_FILE, bbox_inches='tight')\n",
    "plt.close()"
   ]
  }
 ],
 "metadata": {
  "accelerator": "GPU",
  "colab": {
   "collapsed_sections": [],
   "name": "VGG16 Model Final Eval",
   "provenance": []
  },
  "kernelspec": {
   "display_name": "Python 3",
   "language": "python",
   "name": "python3"
  },
  "language_info": {
   "codemirror_mode": {
    "name": "ipython",
    "version": 3
   },
   "file_extension": ".py",
   "mimetype": "text/x-python",
   "name": "python",
   "nbconvert_exporter": "python",
   "pygments_lexer": "ipython3",
   "version": "3.8.5"
  }
 },
 "nbformat": 4,
 "nbformat_minor": 1
}
