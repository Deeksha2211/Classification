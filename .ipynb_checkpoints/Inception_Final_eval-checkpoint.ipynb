{
 "cells": [
  {
   "cell_type": "code",
   "execution_count": 1,
   "metadata": {
    "colab": {
     "base_uri": "https://localhost:8080/"
    },
    "id": "XRAWf83gZj0-",
    "outputId": "2f524766-1bac-4b35-8abc-acc02d6deb25"
   },
   "outputs": [
    {
     "name": "stdout",
     "output_type": "stream",
     "text": [
      "Mounted at /content/drive\n"
     ]
    }
   ],
   "source": [
    "from google.colab import drive\n",
    "drive.mount('/content/drive')"
   ]
  },
  {
   "cell_type": "code",
   "execution_count": 2,
   "metadata": {
    "id": "8dmQh-0yZnvN"
   },
   "outputs": [],
   "source": [
    "import json\n",
    "import math\n",
    "import os\n",
    "\n",
    "import cv2\n",
    "from PIL import Image\n",
    "import numpy as np\n",
    "from tensorflow.keras import layers\n",
    "from tensorflow.keras.applications import ResNet50, VGG16\n",
    "from tensorflow.keras.callbacks import ReduceLROnPlateau\n",
    "from tensorflow.keras.preprocessing.image import ImageDataGenerator\n",
    "from keras.utils.np_utils import to_categorical\n",
    "from tensorflow.keras.models import Sequential\n",
    "from tensorflow.keras.optimizers import Adam\n",
    "import matplotlib.pyplot as plt\n",
    "import pandas as pd\n",
    "from sklearn.model_selection import train_test_split\n",
    "from sklearn.metrics import accuracy_score\n",
    "import scipy\n",
    "from tqdm import tqdm\n",
    "import tensorflow as tf\n",
    "from tensorflow.keras import backend as K\n",
    "import gc\n",
    "from functools import partial\n",
    "from sklearn import metrics\n",
    "from collections import Counter\n",
    "import json\n",
    "import itertools\n",
    "\n",
    "\n",
    "%matplotlib inline"
   ]
  },
  {
   "cell_type": "code",
   "execution_count": 5,
   "metadata": {
    "colab": {
     "base_uri": "https://localhost:8080/"
    },
    "id": "H_Wk72zxXnC1",
    "outputId": "28c1c98c-ff34-4533-ac4e-dac09998260b"
   },
   "outputs": [
    {
     "name": "stderr",
     "output_type": "stream",
     "text": [
      "100%|██████████| 371/371 [01:37<00:00,  3.80it/s]\n",
      "100%|██████████| 777/777 [02:40<00:00,  4.85it/s]\n",
      "100%|██████████| 176/176 [00:44<00:00,  3.98it/s]\n",
      "100%|██████████| 369/369 [01:33<00:00,  3.94it/s]\n"
     ]
    }
   ],
   "source": [
    "#Transfer 'jpg' images to an array IMG\n",
    "def Dataset_loader(DIR, RESIZE, sigmaX=10):\n",
    "    IMG = []\n",
    "    read = lambda imname: np.asarray(Image.open(imname).convert(\"RGB\"))\n",
    "    for IMAGE_NAME in tqdm(os.listdir(DIR)):                                 #tqdm is for progress bar\n",
    "        PATH = os.path.join(DIR,IMAGE_NAME)\n",
    "        _, ftype = os.path.splitext(PATH)\n",
    "        if ftype == \".png\":\n",
    "            img = read(PATH)\n",
    "           \n",
    "            img = cv2.resize(img, (RESIZE,RESIZE))\n",
    "           \n",
    "            IMG.append(np.array(img))\n",
    "    return IMG\n",
    "\n",
    "benign_train = np.array(Dataset_loader('/content/drive/MyDrive/Classification2/train/benign',224))\n",
    "malign_train = np.array(Dataset_loader('/content/drive/MyDrive/Classification2/train/malignant',224))\n",
    "benign_test = np.array(Dataset_loader('/content/drive/MyDrive/Classification2/test/benign',224))\n",
    "malign_test = np.array(Dataset_loader('/content/drive/MyDrive/Classification2/test/malignant',224))"
   ]
  },
  {
   "cell_type": "code",
   "execution_count": 6,
   "metadata": {
    "id": "vuTQaz9lcwvX"
   },
   "outputs": [],
   "source": [
    "# Breast Cancer: Malignant vs. Benign\n",
    "# Create labels\n",
    "benign_train_label = np.zeros(len(benign_train))\n",
    "malign_train_label = np.ones(len(malign_train))\n",
    "benign_test_label = np.zeros(len(benign_test))\n",
    "malign_test_label = np.ones(len(malign_test))\n",
    "\n",
    "# Merge data \n",
    "X_train = np.concatenate((benign_train, malign_train), axis = 0)\n",
    "Y_train = np.concatenate((benign_train_label, malign_train_label), axis = 0)\n",
    "X_test = np.concatenate((benign_test, malign_test), axis = 0)\n",
    "Y_test = np.concatenate((benign_test_label, malign_test_label), axis = 0)\n",
    "\n",
    "# Shuffle train data\n",
    "s = np.arange(X_train.shape[0])\n",
    "np.random.shuffle(s)\n",
    "X_train = X_train[s]\n",
    "Y_train = Y_train[s]\n",
    "\n",
    "# Shuffle test data\n",
    "s = np.arange(X_test.shape[0])\n",
    "np.random.shuffle(s)\n",
    "X_test = X_test[s]\n",
    "Y_test = Y_test[s]\n",
    "\n",
    "# To categorical\n",
    "Y_train = to_categorical(Y_train, num_classes= 2)\n",
    "Y_test = to_categorical(Y_test, num_classes= 2)"
   ]
  },
  {
   "cell_type": "code",
   "execution_count": 7,
   "metadata": {
    "id": "sZ_MIOgrc3f6"
   },
   "outputs": [],
   "source": [
    "x_train, x_val, y_train, y_val = train_test_split(\n",
    "    X_train, Y_train, \n",
    "    test_size=0.2, \n",
    "    random_state=11\n",
    ")"
   ]
  },
  {
   "cell_type": "code",
   "execution_count": 8,
   "metadata": {
    "id": "PaXFlzKTc6v5"
   },
   "outputs": [],
   "source": [
    "BATCH_SIZE = 16\n",
    "\n",
    "# Using original generator\n",
    "train_generator = ImageDataGenerator(\n",
    "        zoom_range=2,  # set range for random zoom           #data augmentation\n",
    "        rotation_range = 90,\n",
    "        horizontal_flip=True,  # randomly flip images\n",
    "        vertical_flip=True,  # randomly flip images\n",
    "    )"
   ]
  },
  {
   "cell_type": "code",
   "execution_count": 9,
   "metadata": {
    "id": "ZgUYaKQSc9mE"
   },
   "outputs": [],
   "source": [
    "def build_model(backbone, lr=1e-4):\n",
    "    model = Sequential()\n",
    "    model.add(backbone)\n",
    "    model.add(layers.GlobalAveragePooling2D())\n",
    "    model.add(layers.Dropout(0.5))\n",
    "    model.add(layers.BatchNormalization())\n",
    "    model.add(layers.Dense(2, activation='softmax'))\n",
    "    \n",
    "    \n",
    "    model.compile(\n",
    "        loss='binary_crossentropy',\n",
    "        optimizer=Adam(lr=lr),\n",
    "        metrics=['accuracy']\n",
    "    )\n",
    "    \n",
    "    return model"
   ]
  },
  {
   "cell_type": "code",
   "execution_count": 10,
   "metadata": {
    "colab": {
     "base_uri": "https://localhost:8080/"
    },
    "id": "AXxdRtEjdDKk",
    "outputId": "678464b2-a3d7-4ecd-e3bc-4ababaab5b87"
   },
   "outputs": [
    {
     "name": "stdout",
     "output_type": "stream",
     "text": [
      "Downloading data from https://storage.googleapis.com/tensorflow/keras-applications/inception_v3/inception_v3_weights_tf_dim_ordering_tf_kernels_notop.h5\n",
      "87916544/87910968 [==============================] - 1s 0us/step\n"
     ]
    }
   ],
   "source": [
    "K.clear_session()\n",
    "gc.collect()\n",
    "from tensorflow.keras.applications.inception_v3 import InceptionV3\n",
    "inception = InceptionV3(\n",
    "    weights='imagenet',\n",
    "    include_top=False,\n",
    "    input_shape=(224,224,3)\n",
    ")"
   ]
  },
  {
   "cell_type": "code",
   "execution_count": 11,
   "metadata": {
    "colab": {
     "base_uri": "https://localhost:8080/"
    },
    "id": "WJknGEV4dXOS",
    "outputId": "fceac7d6-25cc-45e5-ff88-70e1b08947eb"
   },
   "outputs": [
    {
     "name": "stderr",
     "output_type": "stream",
     "text": [
      "/usr/local/lib/python3.7/dist-packages/tensorflow/python/keras/optimizer_v2/optimizer_v2.py:375: UserWarning: The `lr` argument is deprecated, use `learning_rate` instead.\n",
      "  \"The `lr` argument is deprecated, use `learning_rate` instead.\")\n"
     ]
    }
   ],
   "source": [
    "model = build_model(inception ,lr = 1e-4)"
   ]
  },
  {
   "cell_type": "code",
   "execution_count": 12,
   "metadata": {
    "id": "WMR4LxSIdcD6"
   },
   "outputs": [],
   "source": [
    "from tensorflow.keras.callbacks import Callback, ModelCheckpoint, ReduceLROnPlateau\n",
    "# Learning Rate Reducer\n",
    "\n",
    "learn_control = ReduceLROnPlateau(monitor='val_accuracy', patience=5,\n",
    "                                  verbose=1,factor=0.2, min_lr=1e-7)\n",
    "\n",
    "# Checkpoint\n",
    "filepath=\"weights.best.hdf5\"\n",
    "checkpoint = ModelCheckpoint(filepath, monitor='val_accuracy', verbose=1, save_best_only=True, mode='max')"
   ]
  },
  {
   "cell_type": "code",
   "execution_count": 13,
   "metadata": {
    "colab": {
     "base_uri": "https://localhost:8080/"
    },
    "id": "39lSMsIidf1C",
    "outputId": "3ecfccfd-c316-48d4-b096-21e157f4b21b"
   },
   "outputs": [
    {
     "name": "stderr",
     "output_type": "stream",
     "text": [
      "/usr/local/lib/python3.7/dist-packages/tensorflow/python/keras/engine/training.py:1940: UserWarning: `Model.fit_generator` is deprecated and will be removed in a future version. Please use `Model.fit`, which supports generators.\n",
      "  warnings.warn('`Model.fit_generator` is deprecated and '\n"
     ]
    },
    {
     "name": "stdout",
     "output_type": "stream",
     "text": [
      "Epoch 1/20\n",
      "57/57 [==============================] - 55s 276ms/step - loss: 0.8016 - accuracy: 0.6078 - val_loss: 0.9975 - val_accuracy: 0.6565\n",
      "\n",
      "Epoch 00001: val_accuracy improved from -inf to 0.65652, saving model to weights.best.hdf5\n",
      "Epoch 2/20\n",
      "57/57 [==============================] - 12s 203ms/step - loss: 0.5808 - accuracy: 0.7571 - val_loss: 1.1224 - val_accuracy: 0.6696\n",
      "\n",
      "Epoch 00002: val_accuracy improved from 0.65652 to 0.66957, saving model to weights.best.hdf5\n",
      "Epoch 3/20\n",
      "57/57 [==============================] - 12s 205ms/step - loss: 0.5383 - accuracy: 0.7941 - val_loss: 0.4940 - val_accuracy: 0.8000\n",
      "\n",
      "Epoch 00003: val_accuracy improved from 0.66957 to 0.80000, saving model to weights.best.hdf5\n",
      "Epoch 4/20\n",
      "57/57 [==============================] - 12s 204ms/step - loss: 0.5185 - accuracy: 0.8072 - val_loss: 0.2937 - val_accuracy: 0.8739\n",
      "\n",
      "Epoch 00004: val_accuracy improved from 0.80000 to 0.87391, saving model to weights.best.hdf5\n",
      "Epoch 5/20\n",
      "57/57 [==============================] - 12s 203ms/step - loss: 0.4762 - accuracy: 0.8170 - val_loss: 0.4294 - val_accuracy: 0.8913\n",
      "\n",
      "Epoch 00005: val_accuracy improved from 0.87391 to 0.89130, saving model to weights.best.hdf5\n",
      "Epoch 6/20\n",
      "57/57 [==============================] - 12s 205ms/step - loss: 0.4054 - accuracy: 0.8671 - val_loss: 0.1927 - val_accuracy: 0.9217\n",
      "\n",
      "Epoch 00006: val_accuracy improved from 0.89130 to 0.92174, saving model to weights.best.hdf5\n",
      "Epoch 7/20\n",
      "57/57 [==============================] - 12s 206ms/step - loss: 0.3562 - accuracy: 0.8682 - val_loss: 0.1895 - val_accuracy: 0.9174\n",
      "\n",
      "Epoch 00007: val_accuracy did not improve from 0.92174\n",
      "Epoch 8/20\n",
      "57/57 [==============================] - 12s 204ms/step - loss: 0.4069 - accuracy: 0.8595 - val_loss: 0.2312 - val_accuracy: 0.9261\n",
      "\n",
      "Epoch 00008: val_accuracy improved from 0.92174 to 0.92609, saving model to weights.best.hdf5\n",
      "Epoch 9/20\n",
      "57/57 [==============================] - 12s 204ms/step - loss: 0.3705 - accuracy: 0.8649 - val_loss: 0.1822 - val_accuracy: 0.9304\n",
      "\n",
      "Epoch 00009: val_accuracy improved from 0.92609 to 0.93043, saving model to weights.best.hdf5\n",
      "Epoch 10/20\n",
      "57/57 [==============================] - 12s 203ms/step - loss: 0.3549 - accuracy: 0.8671 - val_loss: 0.1760 - val_accuracy: 0.9304\n",
      "\n",
      "Epoch 00010: val_accuracy did not improve from 0.93043\n",
      "Epoch 11/20\n",
      "57/57 [==============================] - 12s 204ms/step - loss: 0.3200 - accuracy: 0.8889 - val_loss: 0.2514 - val_accuracy: 0.8957\n",
      "\n",
      "Epoch 00011: val_accuracy did not improve from 0.93043\n",
      "Epoch 12/20\n",
      "57/57 [==============================] - 12s 204ms/step - loss: 0.3188 - accuracy: 0.8824 - val_loss: 0.3754 - val_accuracy: 0.9130\n",
      "\n",
      "Epoch 00012: val_accuracy did not improve from 0.93043\n",
      "Epoch 13/20\n",
      "57/57 [==============================] - 12s 205ms/step - loss: 0.3185 - accuracy: 0.8878 - val_loss: 0.1616 - val_accuracy: 0.9348\n",
      "\n",
      "Epoch 00013: val_accuracy improved from 0.93043 to 0.93478, saving model to weights.best.hdf5\n",
      "Epoch 14/20\n",
      "57/57 [==============================] - 12s 207ms/step - loss: 0.3276 - accuracy: 0.8736 - val_loss: 0.1739 - val_accuracy: 0.9261\n",
      "\n",
      "Epoch 00014: val_accuracy did not improve from 0.93478\n",
      "Epoch 15/20\n",
      "57/57 [==============================] - 12s 203ms/step - loss: 0.2705 - accuracy: 0.9031 - val_loss: 0.0902 - val_accuracy: 0.9826\n",
      "\n",
      "Epoch 00015: val_accuracy improved from 0.93478 to 0.98261, saving model to weights.best.hdf5\n",
      "Epoch 16/20\n",
      "57/57 [==============================] - 12s 203ms/step - loss: 0.2779 - accuracy: 0.9063 - val_loss: 0.1224 - val_accuracy: 0.9609\n",
      "\n",
      "Epoch 00016: val_accuracy did not improve from 0.98261\n",
      "Epoch 17/20\n",
      "57/57 [==============================] - 12s 205ms/step - loss: 0.2901 - accuracy: 0.8867 - val_loss: 0.2339 - val_accuracy: 0.9261\n",
      "\n",
      "Epoch 00017: val_accuracy did not improve from 0.98261\n",
      "Epoch 18/20\n",
      "57/57 [==============================] - 12s 204ms/step - loss: 0.2660 - accuracy: 0.8987 - val_loss: 0.1830 - val_accuracy: 0.9217\n",
      "\n",
      "Epoch 00018: val_accuracy did not improve from 0.98261\n",
      "Epoch 19/20\n",
      "57/57 [==============================] - 12s 204ms/step - loss: 0.2738 - accuracy: 0.8965 - val_loss: 0.1115 - val_accuracy: 0.9696\n",
      "\n",
      "Epoch 00019: val_accuracy did not improve from 0.98261\n",
      "Epoch 20/20\n",
      "57/57 [==============================] - 12s 207ms/step - loss: 0.2703 - accuracy: 0.9041 - val_loss: 0.1575 - val_accuracy: 0.9391\n",
      "\n",
      "Epoch 00020: ReduceLROnPlateau reducing learning rate to 1.9999999494757503e-05.\n",
      "\n",
      "Epoch 00020: val_accuracy did not improve from 0.98261\n"
     ]
    }
   ],
   "source": [
    "history = model.fit_generator(\n",
    "    train_generator.flow(x_train, y_train, batch_size=BATCH_SIZE),\n",
    "    steps_per_epoch=x_train.shape[0] / BATCH_SIZE,\n",
    "    epochs=20,\n",
    "    validation_data=(x_val, y_val),\n",
    "    callbacks=[learn_control, checkpoint]\n",
    ")"
   ]
  },
  {
   "cell_type": "code",
   "execution_count": 14,
   "metadata": {
    "id": "WibAjNRsdiI8"
   },
   "outputs": [],
   "source": [
    "model.load_weights(\"weights.best.hdf5\")"
   ]
  },
  {
   "cell_type": "code",
   "execution_count": 15,
   "metadata": {
    "id": "PaGAksBidlCb"
   },
   "outputs": [],
   "source": [
    "Y_val_pred = model.predict(x_val)"
   ]
  },
  {
   "cell_type": "code",
   "execution_count": 18,
   "metadata": {
    "id": "xjQaGkXLgFYc"
   },
   "outputs": [],
   "source": [
    "Y_pred = model.predict(X_test)"
   ]
  },
  {
   "cell_type": "code",
   "execution_count": 16,
   "metadata": {
    "colab": {
     "base_uri": "https://localhost:8080/"
    },
    "id": "yFoyMTr_dnOC",
    "outputId": "043484aa-39e6-42de-dd30-52a4919ab99c"
   },
   "outputs": [
    {
     "name": "stderr",
     "output_type": "stream",
     "text": [
      "\r",
      "  0%|          | 0/10 [00:00<?, ?it/s]/usr/local/lib/python3.7/dist-packages/tensorflow/python/keras/engine/training.py:2001: UserWarning: `Model.predict_generator` is deprecated and will be removed in a future version. Please use `Model.predict`, which supports generators.\n",
      "  warnings.warn('`Model.predict_generator` is deprecated and '\n",
      "100%|██████████| 10/10 [00:58<00:00,  5.84s/it]\n"
     ]
    }
   ],
   "source": [
    "tta_steps = 10\n",
    "predictions = []\n",
    "\n",
    "for i in tqdm(range(tta_steps)):\n",
    "    preds = model.predict_generator(train_generator.flow(X_test, batch_size=BATCH_SIZE, shuffle=False),\n",
    "                                    steps = len(X_test)/BATCH_SIZE)\n",
    "    \n",
    "    predictions.append(preds)\n",
    "    gc.collect()\n",
    "    \n",
    "Y_pred_tta = np.mean(predictions, axis=0)"
   ]
  },
  {
   "cell_type": "code",
   "execution_count": 19,
   "metadata": {
    "colab": {
     "base_uri": "https://localhost:8080/",
     "height": 350
    },
    "id": "MELAFQ4mdqLl",
    "outputId": "b1503ce9-d707-4ca5-9097-c79ff15803c5"
   },
   "outputs": [
    {
     "name": "stdout",
     "output_type": "stream",
     "text": [
      "Confusion matrix, without normalization\n",
      "[[158  18]\n",
      " [ 13 356]]\n"
     ]
    },
    {
     "data": {
      "image/png": "[encoded data removed]",
      "text/plain": [
       "<Figure size 432x288 with 2 Axes>"
      ]
     },
     "metadata": {
      "needs_background": "light",
      "tags": []
     },
     "output_type": "display_data"
    }
   ],
   "source": [
    "from sklearn.metrics import confusion_matrix\n",
    "\n",
    "def plot_confusion_matrix(cm, classes,\n",
    "                          normalize=False,\n",
    "                          title='Confusion matrix',\n",
    "                          cmap=plt.cm.Blues):\n",
    "    \"\"\"\n",
    "    This function prints and plots the confusion matrix.\n",
    "    Normalization can be applied by setting `normalize=True`.\n",
    "    \"\"\"\n",
    "    if normalize:\n",
    "        cm = cm.astype('float') / cm.sum(axis=1)[:, np.newaxis]\n",
    "        print(\"Normalized confusion matrix\")\n",
    "    else:\n",
    "        print('Confusion matrix, without normalization')\n",
    "\n",
    "    print(cm)\n",
    "\n",
    "    plt.imshow(cm, interpolation='nearest', cmap=cmap)\n",
    "    plt.title(title)\n",
    "    plt.colorbar()\n",
    "    tick_marks = np.arange(len(classes))\n",
    "    plt.xticks(tick_marks, classes, rotation=55)\n",
    "    plt.yticks(tick_marks, classes)\n",
    "\n",
    "    fmt = '.2f' if normalize else 'd'\n",
    "    thresh = cm.max() / 2.\n",
    "    for i, j in itertools.product(range(cm.shape[0]), range(cm.shape[1])):\n",
    "        plt.text(j, i, format(cm[i, j], fmt),\n",
    "                 horizontalalignment=\"center\",\n",
    "                 color=\"white\" if cm[i, j] > thresh else \"black\")\n",
    "\n",
    "    plt.ylabel('True label')\n",
    "    plt.xlabel('Predicted label')\n",
    "    plt.tight_layout()\n",
    "\n",
    "cm = confusion_matrix(np.argmax(Y_test, axis=1), np.argmax(Y_pred, axis=1))\n",
    "\n",
    "cm_plot_label =['benign', 'malignant']\n",
    "plot_confusion_matrix(cm, cm_plot_label, title ='Confusion Metrix for Breast Cancer')"
   ]
  },
  {
   "cell_type": "code",
   "execution_count": 20,
   "metadata": {
    "colab": {
     "base_uri": "https://localhost:8080/",
     "height": 294
    },
    "id": "fAjf213kdtoa",
    "outputId": "302d0d1a-2eda-463f-f7f3-39c5a3ccfdd3"
   },
   "outputs": [
    {
     "data": {
      "image/png": "[encoded data removed]",
      "text/plain": [
       "<Figure size 432x288 with 1 Axes>"
      ]
     },
     "metadata": {
      "needs_background": "light",
      "tags": []
     },
     "output_type": "display_data"
    }
   ],
   "source": [
    "from sklearn.metrics import roc_auc_score, auc\n",
    "from sklearn.metrics import roc_curve\n",
    "roc_log = roc_auc_score(np.argmax(Y_test, axis=1), np.argmax(Y_pred_tta, axis=1))\n",
    "false_positive_rate, true_positive_rate, threshold = roc_curve(np.argmax(Y_test, axis=1), np.argmax(Y_pred_tta, axis=1))\n",
    "area_under_curve = auc(false_positive_rate, true_positive_rate)\n",
    "\n",
    "plt.plot([0, 1], [0, 1], 'r--')\n",
    "plt.plot(false_positive_rate, true_positive_rate, label='AUC = {:.3f}'.format(area_under_curve))\n",
    "plt.xlabel('False positive rate')\n",
    "plt.ylabel('True positive rate')\n",
    "plt.title('ROC curve')\n",
    "plt.legend(loc='best')\n",
    "plt.show()\n",
    "#plt.savefig(ROC_PLOT_FILE, bbox_inches='tight')\n",
    "plt.close()"
   ]
  },
  {
   "cell_type": "code",
   "execution_count": null,
   "metadata": {
    "id": "iZhrDnxReaeS"
   },
   "outputs": [],
   "source": []
  }
 ],
 "metadata": {
  "accelerator": "GPU",
  "colab": {
   "name": "Inception Final eval",
   "provenance": []
  },
  "kernelspec": {
   "display_name": "Python 3",
   "language": "python",
   "name": "python3"
  },
  "language_info": {
   "codemirror_mode": {
    "name": "ipython",
    "version": 3
   },
   "file_extension": ".py",
   "mimetype": "text/x-python",
   "name": "python",
   "nbconvert_exporter": "python",
   "pygments_lexer": "ipython3",
   "version": "3.8.5"
  }
 },
 "nbformat": 4,
 "nbformat_minor": 1
}
