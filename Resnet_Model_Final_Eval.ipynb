{
 "cells": [
  {
   "cell_type": "code",
   "execution_count": null,
   "metadata": {
    "colab": {
     "base_uri": "https://localhost:8080/"
    },
    "id": "miRq1EJSXI49",
    "outputId": "2192eff0-8626-414a-8f60-da4ce4d7ca93"
   },
   "outputs": [
    {
     "name": "stdout",
     "output_type": "stream",
     "text": [
      "Mounted at /content/drive\n"
     ]
    }
   ],
   "source": [
    "from google.colab import drive\n",
    "drive.mount('/content/drive')"
   ]
  },
  {
   "cell_type": "code",
   "execution_count": null,
   "metadata": {
    "id": "e4ANoyeJXXYt"
   },
   "outputs": [],
   "source": [
    "import json\n",
    "import math\n",
    "import os\n",
    "\n",
    "import cv2\n",
    "from PIL import Image\n",
    "import numpy as np\n",
    "from tensorflow.keras import layers\n",
    "from tensorflow.keras.applications import ResNet50, VGG16\n",
    "from tensorflow.keras.callbacks import ReduceLROnPlateau\n",
    "from tensorflow.keras.preprocessing.image import ImageDataGenerator\n",
    "from keras.utils.np_utils import to_categorical\n",
    "from tensorflow.keras.models import Sequential\n",
    "from tensorflow.keras.optimizers import Adam\n",
    "import matplotlib.pyplot as plt\n",
    "import pandas as pd\n",
    "from sklearn.model_selection import train_test_split\n",
    "from sklearn.metrics import accuracy_score\n",
    "import scipy\n",
    "from tqdm import tqdm\n",
    "import tensorflow as tf\n",
    "from tensorflow.keras import backend as K\n",
    "import gc\n",
    "from functools import partial\n",
    "from sklearn import metrics\n",
    "from collections import Counter\n",
    "import json\n",
    "import itertools\n",
    "\n",
    "\n",
    "%matplotlib inline"
   ]
  },
  {
   "cell_type": "code",
   "execution_count": null,
   "metadata": {
    "colab": {
     "base_uri": "https://localhost:8080/"
    },
    "id": "H_Wk72zxXnC1",
    "outputId": "a95f366e-9d62-4641-ce09-54d385133c86"
   },
   "outputs": [
    {
     "name": "stderr",
     "output_type": "stream",
     "text": [
      "100%|██████████| 371/371 [02:10<00:00,  2.85it/s]\n",
      "100%|██████████| 777/777 [04:14<00:00,  3.06it/s]\n",
      "100%|██████████| 176/176 [01:00<00:00,  2.92it/s]\n",
      "100%|██████████| 369/369 [02:03<00:00,  2.98it/s]\n"
     ]
    }
   ],
   "source": [
    "#Transfer 'jpg' images to an array IMG\n",
    "def Dataset_loader(DIR, RESIZE, sigmaX=10):\n",
    "    IMG = []\n",
    "    read = lambda imname: np.asarray(Image.open(imname).convert(\"RGB\"))\n",
    "    for IMAGE_NAME in tqdm(os.listdir(DIR)):                                 #tqdm is for progress bar\n",
    "        PATH = os.path.join(DIR,IMAGE_NAME)\n",
    "        _, ftype = os.path.splitext(PATH)\n",
    "        if ftype == \".png\":\n",
    "            img = read(PATH)\n",
    "           \n",
    "            img = cv2.resize(img, (RESIZE,RESIZE))\n",
    "           \n",
    "            IMG.append(np.array(img))\n",
    "    return IMG\n",
    "\n",
    "benign_train = np.array(Dataset_loader('/content/drive/MyDrive/Classification2/train/benign',224))\n",
    "malign_train = np.array(Dataset_loader('/content/drive/MyDrive/Classification2/train/malignant',224))\n",
    "benign_test = np.array(Dataset_loader('/content/drive/MyDrive/Classification2/test/benign',224))\n",
    "malign_test = np.array(Dataset_loader('/content/drive/MyDrive/Classification2/test/malignant',224))"
   ]
  },
  {
   "cell_type": "code",
   "execution_count": null,
   "metadata": {
    "id": "B5cqgIFpX8aM"
   },
   "outputs": [],
   "source": [
    "# Breast Cancer: Malignant vs. Benign\n",
    "# Create labels\n",
    "benign_train_label = np.zeros(len(benign_train))\n",
    "malign_train_label = np.ones(len(malign_train))\n",
    "benign_test_label = np.zeros(len(benign_test))\n",
    "malign_test_label = np.ones(len(malign_test))\n",
    "\n",
    "# Merge data \n",
    "X_train = np.concatenate((benign_train, malign_train), axis = 0)\n",
    "Y_train = np.concatenate((benign_train_label, malign_train_label), axis = 0)\n",
    "X_test = np.concatenate((benign_test, malign_test), axis = 0)\n",
    "Y_test = np.concatenate((benign_test_label, malign_test_label), axis = 0)\n",
    "\n",
    "# Shuffle train data\n",
    "s = np.arange(X_train.shape[0])\n",
    "np.random.shuffle(s)\n",
    "X_train = X_train[s]\n",
    "Y_train = Y_train[s]\n",
    "\n",
    "# Shuffle test data\n",
    "s = np.arange(X_test.shape[0])\n",
    "np.random.shuffle(s)\n",
    "X_test = X_test[s]\n",
    "Y_test = Y_test[s]\n",
    "\n",
    "# To categorical\n",
    "Y_train = to_categorical(Y_train, num_classes= 2)\n",
    "Y_test = to_categorical(Y_test, num_classes= 2)"
   ]
  },
  {
   "cell_type": "code",
   "execution_count": null,
   "metadata": {
    "id": "ys15btuSYAlk"
   },
   "outputs": [],
   "source": [
    "x_train, x_val, y_train, y_val = train_test_split(\n",
    "    X_train, Y_train, \n",
    "    test_size=0.2, \n",
    "    random_state=11\n",
    ")"
   ]
  },
  {
   "cell_type": "code",
   "execution_count": null,
   "metadata": {
    "id": "m3RT2SKwYD_-"
   },
   "outputs": [],
   "source": [
    "BATCH_SIZE = 16\n",
    "\n",
    "# Using original generator\n",
    "train_generator = ImageDataGenerator(\n",
    "        zoom_range=2,  # set range for random zoom           #data augmentation\n",
    "        rotation_range = 90,\n",
    "        horizontal_flip=True,  # randomly flip images\n",
    "        vertical_flip=True,  # randomly flip images\n",
    "    )"
   ]
  },
  {
   "cell_type": "code",
   "execution_count": null,
   "metadata": {
    "id": "aTDyoe5iYG6Q"
   },
   "outputs": [],
   "source": [
    "def build_model(backbone, lr=1e-4):\n",
    "    model = Sequential()\n",
    "    model.add(backbone)\n",
    "    model.add(layers.GlobalAveragePooling2D())\n",
    "    model.add(layers.Dropout(0.5))\n",
    "    model.add(layers.BatchNormalization())\n",
    "    model.add(layers.Dense(2, activation='softmax'))\n",
    "    \n",
    "    \n",
    "    model.compile(\n",
    "        loss='binary_crossentropy',\n",
    "        optimizer=Adam(lr=lr),\n",
    "        metrics=['accuracy']\n",
    "    )\n",
    "    \n",
    "    return model"
   ]
  },
  {
   "cell_type": "code",
   "execution_count": null,
   "metadata": {
    "colab": {
     "base_uri": "https://localhost:8080/"
    },
    "id": "VxcIxbCXYQrd",
    "outputId": "81f8f3d6-0782-4360-e36c-06625fecd7f2"
   },
   "outputs": [
    {
     "name": "stdout",
     "output_type": "stream",
     "text": [
      "Downloading data from https://storage.googleapis.com/tensorflow/keras-applications/resnet/resnet50_weights_tf_dim_ordering_tf_kernels_notop.h5\n",
      "94773248/94765736 [==============================] - 1s 0us/step\n"
     ]
    },
    {
     "name": "stderr",
     "output_type": "stream",
     "text": [
      "/usr/local/lib/python3.7/dist-packages/tensorflow/python/keras/optimizer_v2/optimizer_v2.py:375: UserWarning: The `lr` argument is deprecated, use `learning_rate` instead.\n",
      "  \"The `lr` argument is deprecated, use `learning_rate` instead.\")\n"
     ]
    }
   ],
   "source": [
    "K.clear_session()\n",
    "gc.collect()\n",
    "\n",
    "resnet = ResNet50(\n",
    "    weights='imagenet',\n",
    "    include_top=False,\n",
    "    input_shape=(224,224,3)\n",
    ")\n",
    "\n",
    "model = build_model(resnet ,lr = 1e-4)"
   ]
  },
  {
   "cell_type": "code",
   "execution_count": null,
   "metadata": {
    "id": "8V4DRq3hYR9V"
   },
   "outputs": [],
   "source": [
    "from tensorflow.keras.callbacks import Callback, ModelCheckpoint, ReduceLROnPlateau\n",
    "# Learning Rate Reducer\n",
    "\n",
    "learn_control = ReduceLROnPlateau(monitor='val_accuracy', patience=5,\n",
    "                                  verbose=1,factor=0.2, min_lr=1e-7)\n",
    "\n",
    "# Checkpoint\n",
    "filepath=\"weights.best.hdf5\"\n",
    "checkpoint = ModelCheckpoint(filepath, monitor='val_accuracy', verbose=1, save_best_only=True, mode='max')"
   ]
  },
  {
   "cell_type": "code",
   "execution_count": null,
   "metadata": {
    "colab": {
     "base_uri": "https://localhost:8080/"
    },
    "id": "gOjRdv1ExwkC",
    "outputId": "337c0dc7-1fed-45a2-b287-5dcc9be0ce4a"
   },
   "outputs": [
    {
     "name": "stderr",
     "output_type": "stream",
     "text": [
      "/usr/local/lib/python3.7/dist-packages/tensorflow/python/keras/engine/training.py:1940: UserWarning: `Model.fit_generator` is deprecated and will be removed in a future version. Please use `Model.fit`, which supports generators.\n",
      "  warnings.warn('`Model.fit_generator` is deprecated and '\n"
     ]
    },
    {
     "name": "stdout",
     "output_type": "stream",
     "text": [
      "Epoch 1/20\n",
      "57/57 [==============================] - 22s 267ms/step - loss: 0.6575 - accuracy: 0.7015 - val_loss: 0.6416 - val_accuracy: 0.6957\n",
      "\n",
      "Epoch 00001: val_accuracy improved from -inf to 0.69565, saving model to weights.best.hdf5\n"
     ]
    },
    {
     "name": "stderr",
     "output_type": "stream",
     "text": [
      "/usr/local/lib/python3.7/dist-packages/tensorflow/python/keras/utils/generic_utils.py:497: CustomMaskWarning: Custom mask layers require a config and must override get_config. When loading, the custom mask layer must be passed to the custom_objects argument.\n",
      "  category=CustomMaskWarning)\n"
     ]
    },
    {
     "name": "stdout",
     "output_type": "stream",
     "text": [
      "Epoch 2/20\n",
      "57/57 [==============================] - 13s 225ms/step - loss: 0.5220 - accuracy: 0.8148 - val_loss: 0.4028 - val_accuracy: 0.8217\n",
      "\n",
      "Epoch 00002: val_accuracy improved from 0.69565 to 0.82174, saving model to weights.best.hdf5\n",
      "Epoch 3/20\n",
      "57/57 [==============================] - 13s 226ms/step - loss: 0.4517 - accuracy: 0.8442 - val_loss: 0.3001 - val_accuracy: 0.8870\n",
      "\n",
      "Epoch 00003: val_accuracy improved from 0.82174 to 0.88696, saving model to weights.best.hdf5\n",
      "Epoch 4/20\n",
      "57/57 [==============================] - 13s 228ms/step - loss: 0.4768 - accuracy: 0.8192 - val_loss: 0.2934 - val_accuracy: 0.8739\n",
      "\n",
      "Epoch 00004: val_accuracy did not improve from 0.88696\n",
      "Epoch 5/20\n",
      "57/57 [==============================] - 13s 227ms/step - loss: 0.4194 - accuracy: 0.8475 - val_loss: 0.3601 - val_accuracy: 0.9043\n",
      "\n",
      "Epoch 00005: val_accuracy improved from 0.88696 to 0.90435, saving model to weights.best.hdf5\n",
      "Epoch 6/20\n",
      "57/57 [==============================] - 13s 228ms/step - loss: 0.3688 - accuracy: 0.8715 - val_loss: 0.2370 - val_accuracy: 0.8783\n",
      "\n",
      "Epoch 00006: val_accuracy did not improve from 0.90435\n",
      "Epoch 7/20\n",
      "57/57 [==============================] - 13s 229ms/step - loss: 0.3162 - accuracy: 0.8802 - val_loss: 0.2967 - val_accuracy: 0.8826\n",
      "\n",
      "Epoch 00007: val_accuracy did not improve from 0.90435\n",
      "Epoch 8/20\n",
      "57/57 [==============================] - 13s 227ms/step - loss: 0.3829 - accuracy: 0.8660 - val_loss: 0.1372 - val_accuracy: 0.9609\n",
      "\n",
      "Epoch 00008: val_accuracy improved from 0.90435 to 0.96087, saving model to weights.best.hdf5\n",
      "Epoch 9/20\n",
      "57/57 [==============================] - 13s 227ms/step - loss: 0.3635 - accuracy: 0.8660 - val_loss: 1.1075 - val_accuracy: 0.7217\n",
      "\n",
      "Epoch 00009: val_accuracy did not improve from 0.96087\n",
      "Epoch 10/20\n",
      "57/57 [==============================] - 13s 228ms/step - loss: 0.3366 - accuracy: 0.8791 - val_loss: 0.2323 - val_accuracy: 0.9000\n",
      "\n",
      "Epoch 00010: val_accuracy did not improve from 0.96087\n",
      "Epoch 11/20\n",
      "57/57 [==============================] - 13s 229ms/step - loss: 0.2913 - accuracy: 0.8987 - val_loss: 1.2621 - val_accuracy: 0.9087\n",
      "\n",
      "Epoch 00011: val_accuracy did not improve from 0.96087\n",
      "Epoch 12/20\n",
      "57/57 [==============================] - 13s 228ms/step - loss: 0.3238 - accuracy: 0.8791 - val_loss: 0.1575 - val_accuracy: 0.9391\n",
      "\n",
      "Epoch 00012: val_accuracy did not improve from 0.96087\n",
      "Epoch 13/20\n",
      "57/57 [==============================] - 13s 229ms/step - loss: 0.3164 - accuracy: 0.8943 - val_loss: 0.2995 - val_accuracy: 0.8957\n",
      "\n",
      "Epoch 00013: ReduceLROnPlateau reducing learning rate to 1.9999999494757503e-05.\n",
      "\n",
      "Epoch 00013: val_accuracy did not improve from 0.96087\n",
      "Epoch 14/20\n",
      "57/57 [==============================] - 13s 228ms/step - loss: 0.2615 - accuracy: 0.9041 - val_loss: 0.1978 - val_accuracy: 0.9261\n",
      "\n",
      "Epoch 00014: val_accuracy did not improve from 0.96087\n",
      "Epoch 15/20\n",
      "57/57 [==============================] - 13s 228ms/step - loss: 0.2292 - accuracy: 0.9139 - val_loss: 0.1400 - val_accuracy: 0.9565\n",
      "\n",
      "Epoch 00015: val_accuracy did not improve from 0.96087\n",
      "Epoch 16/20\n",
      "57/57 [==============================] - 13s 227ms/step - loss: 0.2543 - accuracy: 0.8998 - val_loss: 0.1096 - val_accuracy: 0.9652\n",
      "\n",
      "Epoch 00016: val_accuracy improved from 0.96087 to 0.96522, saving model to weights.best.hdf5\n",
      "Epoch 17/20\n",
      "57/57 [==============================] - 13s 228ms/step - loss: 0.2280 - accuracy: 0.9150 - val_loss: 0.0923 - val_accuracy: 0.9739\n",
      "\n",
      "Epoch 00017: val_accuracy improved from 0.96522 to 0.97391, saving model to weights.best.hdf5\n",
      "Epoch 18/20\n",
      "57/57 [==============================] - 14s 243ms/step - loss: 0.2816 - accuracy: 0.8922 - val_loss: 0.0958 - val_accuracy: 0.9696\n",
      "\n",
      "Epoch 00018: val_accuracy did not improve from 0.97391\n",
      "Epoch 19/20\n",
      "57/57 [==============================] - 13s 229ms/step - loss: 0.2206 - accuracy: 0.9270 - val_loss: 0.0881 - val_accuracy: 0.9696\n",
      "\n",
      "Epoch 00019: val_accuracy did not improve from 0.97391\n",
      "Epoch 20/20\n",
      "57/57 [==============================] - 13s 228ms/step - loss: 0.2451 - accuracy: 0.9118 - val_loss: 0.0916 - val_accuracy: 0.9696\n",
      "\n",
      "Epoch 00020: val_accuracy did not improve from 0.97391\n"
     ]
    }
   ],
   "source": [
    "history = model.fit_generator(\n",
    "    train_generator.flow(x_train, y_train, batch_size=BATCH_SIZE),\n",
    "    steps_per_epoch=x_train.shape[0] / BATCH_SIZE,\n",
    "    epochs=20,\n",
    "    validation_data=(x_val, y_val),\n",
    "    callbacks=[learn_control, checkpoint]\n",
    ")"
   ]
  },
  {
   "cell_type": "code",
   "execution_count": null,
   "metadata": {
    "id": "WgselNyzYZLU"
   },
   "outputs": [],
   "source": [
    "model.load_weights(\"weights.best.hdf5\")"
   ]
  },
  {
   "cell_type": "code",
   "execution_count": null,
   "metadata": {
    "id": "K1bqBEl-Ydt-"
   },
   "outputs": [],
   "source": [
    "Y_val_pred = model.predict(x_val)"
   ]
  },
  {
   "cell_type": "code",
   "execution_count": null,
   "metadata": {
    "colab": {
     "base_uri": "https://localhost:8080/"
    },
    "id": "jmbwb073YgbF",
    "outputId": "5836de2a-a641-47d6-e755-87225ef01650"
   },
   "outputs": [
    {
     "data": {
      "text/plain": [
       "0.9695652173913043"
      ]
     },
     "execution_count": 14,
     "metadata": {
      "tags": []
     },
     "output_type": "execute_result"
    }
   ],
   "source": [
    "accuracy_score(np.argmax(y_val, axis=1), np.argmax(Y_val_pred, axis=1))"
   ]
  },
  {
   "cell_type": "code",
   "execution_count": null,
   "metadata": {
    "id": "u8_oxWU8Yjkc"
   },
   "outputs": [],
   "source": [
    "Y_pred = model.predict(X_test)"
   ]
  },
  {
   "cell_type": "code",
   "execution_count": null,
   "metadata": {
    "colab": {
     "base_uri": "https://localhost:8080/"
    },
    "id": "pvon9MZ-Ymen",
    "outputId": "8ff2547b-29e7-4c98-ca9e-20194e35e64f"
   },
   "outputs": [
    {
     "name": "stderr",
     "output_type": "stream",
     "text": [
      "\r",
      "  0%|          | 0/10 [00:00<?, ?it/s]/usr/local/lib/python3.7/dist-packages/tensorflow/python/keras/engine/training.py:2001: UserWarning: `Model.predict_generator` is deprecated and will be removed in a future version. Please use `Model.predict`, which supports generators.\n",
      "  warnings.warn('`Model.predict_generator` is deprecated and '\n",
      "100%|██████████| 10/10 [00:57<00:00,  5.74s/it]\n"
     ]
    }
   ],
   "source": [
    "tta_steps = 10\n",
    "predictions = []\n",
    "\n",
    "for i in tqdm(range(tta_steps)):\n",
    "    preds = model.predict_generator(train_generator.flow(X_test, batch_size=BATCH_SIZE, shuffle=False),\n",
    "                                    steps = len(X_test)/BATCH_SIZE)\n",
    "    \n",
    "    predictions.append(preds)\n",
    "    gc.collect()\n",
    "    \n",
    "Y_pred_tta = np.mean(predictions, axis=0)"
   ]
  },
  {
   "cell_type": "code",
   "execution_count": null,
   "metadata": {
    "colab": {
     "base_uri": "https://localhost:8080/",
     "height": 348
    },
    "id": "lPIpTqQgyKRv",
    "outputId": "4ae36fc5-26f7-40ca-c391-5455e8adc1ad"
   },
   "outputs": [
    {
     "name": "stdout",
     "output_type": "stream",
     "text": [
      "Confusion matrix, without normalization\n",
      "[[165  11]\n",
      " [  8 239]]\n"
     ]
    },
    {
     "data": {
      "image/png": "[encoded data removed]",
      "text/plain": [
       "<Figure size 432x288 with 2 Axes>"
      ]
     },
     "metadata": {
      "needs_background": "light",
      "tags": []
     },
     "output_type": "display_data"
    }
   ],
   "source": [
    "from sklearn.metrics import confusion_matrix\n",
    "\n",
    "def plot_confusion_matrix(cm, classes,\n",
    "                          normalize=False,\n",
    "                          title='Confusion matrix',\n",
    "                          cmap=plt.cm.Blues):\n",
    "    \"\"\"\n",
    "    This function prints and plots the confusion matrix.\n",
    "    Normalization can be applied by setting `normalize=True`.\n",
    "    \"\"\"\n",
    "    if normalize:\n",
    "        cm = cm.astype('float') / cm.sum(axis=1)[:, np.newaxis]\n",
    "        print(\"Normalized confusion matrix\")\n",
    "    else:\n",
    "        print('Confusion matrix, without normalization')\n",
    "\n",
    "    print(cm)\n",
    "\n",
    "    plt.imshow(cm, interpolation='nearest', cmap=cmap)\n",
    "    plt.title(title)\n",
    "    plt.colorbar()\n",
    "    tick_marks = np.arange(len(classes))\n",
    "    plt.xticks(tick_marks, classes, rotation=55)\n",
    "    plt.yticks(tick_marks, classes)\n",
    "\n",
    "    fmt = '.2f' if normalize else 'd'\n",
    "    thresh = cm.max() / 2.\n",
    "    for i, j in itertools.product(range(cm.shape[0]), range(cm.shape[1])):\n",
    "        plt.text(j, i, format(cm[i, j], fmt),\n",
    "                 horizontalalignment=\"center\",\n",
    "                 color=\"white\" if cm[i, j] > thresh else \"black\")\n",
    "\n",
    "    plt.ylabel('True label')\n",
    "    plt.xlabel('Predicted label')\n",
    "    plt.tight_layout()\n",
    "\n",
    "cm = confusion_matrix(np.argmax(Y_test, axis=1), np.argmax(Y_pred, axis=1))\n",
    "\n",
    "cm_plot_label =['benign', 'malignant']\n",
    "plot_confusion_matrix(cm, cm_plot_label, title ='Confusion Metrix for Breast Cancer')"
   ]
  },
  {
   "cell_type": "code",
   "execution_count": null,
   "metadata": {
    "colab": {
     "base_uri": "https://localhost:8080/",
     "height": 298
    },
    "id": "p-M1nTMLyPEe",
    "outputId": "1659a7fa-dddd-4b27-f4aa-7ff13c38f0ce"
   },
   "outputs": [
    {
     "data": {
      "image/png": "[encoded data removed]",
      "text/plain": [
       "<Figure size 432x288 with 1 Axes>"
      ]
     },
     "metadata": {
      "needs_background": "light",
      "tags": []
     },
     "output_type": "display_data"
    }
   ],
   "source": [
    "from sklearn.metrics import roc_auc_score, auc\n",
    "from sklearn.metrics import roc_curve\n",
    "roc_log = roc_auc_score(np.argmax(Y_test, axis=1), np.argmax(Y_pred_tta, axis=1))\n",
    "false_positive_rate, true_positive_rate, threshold = roc_curve(np.argmax(Y_test, axis=1), np.argmax(Y_pred_tta, axis=1))\n",
    "area_under_curve = auc(false_positive_rate, true_positive_rate)\n",
    "\n",
    "plt.plot([0, 1], [0, 1], 'r--')\n",
    "plt.plot(false_positive_rate, true_positive_rate, label='AUC = {:.3f}'.format(area_under_curve))\n",
    "plt.xlabel('False positive rate')\n",
    "plt.ylabel('True positive rate')\n",
    "plt.title('ROC curve')\n",
    "plt.legend(loc='best')\n",
    "plt.show()\n",
    "#plt.savefig(ROC_PLOT_FILE, bbox_inches='tight')\n",
    "plt.close()"
   ]
  }
 ],
 "metadata": {
  "accelerator": "GPU",
  "colab": {
   "name": "Resnet_Model_Final_Eval.ipynb",
   "provenance": []
  },
  "kernelspec": {
   "display_name": "Python 3",
   "language": "python",
   "name": "python3"
  },
  "language_info": {
   "codemirror_mode": {
    "name": "ipython",
    "version": 3
   },
   "file_extension": ".py",
   "mimetype": "text/x-python",
   "name": "python",
   "nbconvert_exporter": "python",
   "pygments_lexer": "ipython3",
   "version": "3.8.5"
  }
 },
 "nbformat": 4,
 "nbformat_minor": 1
}
